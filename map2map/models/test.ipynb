{
 "cells": [
  {
   "cell_type": "code",
   "execution_count": 1,
   "metadata": {},
   "outputs": [
    {
     "name": "stderr",
     "output_type": "stream",
     "text": [
      "/hildafs/projects/phy200018p/xzhangn/source/anaconda3/envs/torch/lib/python3.7/site-packages/tqdm/auto.py:21: TqdmWarning: IProgress not found. Please update jupyter and ipywidgets. See https://ipywidgets.readthedocs.io/en/stable/user_install.html\n",
      "  from .autonotebook import tqdm as notebook_tqdm\n"
     ]
    }
   ],
   "source": [
    "import torch"
   ]
  },
  {
   "cell_type": "code",
   "execution_count": 2,
   "metadata": {},
   "outputs": [],
   "source": [
    "from sr_emu import Generator"
   ]
  },
  {
   "cell_type": "code",
   "execution_count": 3,
   "metadata": {},
   "outputs": [],
   "source": [
    "G = Generator(6, 6, 1)"
   ]
  },
  {
   "cell_type": "code",
   "execution_count": 4,
   "metadata": {},
   "outputs": [],
   "source": [
    "from prettytable import PrettyTable\n",
    "\n",
    "def count_parameters(model):\n",
    "    table = PrettyTable([\"Modules\", \"Parameters\"])\n",
    "    total_params = 0\n",
    "    for name, parameter in model.named_parameters():\n",
    "        if not parameter.requires_grad: continue\n",
    "        params = parameter.numel()\n",
    "        table.add_row([name, params])\n",
    "        total_params+=params\n",
    "    print(table)\n",
    "    print(f\"Total Trainable Params: {total_params}\")\n",
    "    return total_params\n"
   ]
  },
  {
   "cell_type": "code",
   "execution_count": 5,
   "metadata": {},
   "outputs": [
    {
     "name": "stdout",
     "output_type": "stream",
     "text": [
      "+------------------------------------------+------------+\n",
      "|                 Modules                  | Parameters |\n",
      "+------------------------------------------+------------+\n",
      "|              block0.weight               |    3072    |\n",
      "|               block0.bias                |    512     |\n",
      "|       block0.style_block.0.weight        |     6      |\n",
      "|        block0.style_block.0.bias         |     6      |\n",
      "|               addnoise.std               |    512     |\n",
      "|           hblock0.conv1.weight           |  3538944   |\n",
      "|            hblock0.conv1.bias            |    256     |\n",
      "|    hblock0.conv1.style_block.0.weight    |    512     |\n",
      "|     hblock0.conv1.style_block.0.bias     |    512     |\n",
      "|          hblock0.addnoise1.std           |    256     |\n",
      "|           hblock0.conv2.weight           |  1769472   |\n",
      "|            hblock0.conv2.bias            |    256     |\n",
      "|    hblock0.conv2.style_block.0.weight    |    256     |\n",
      "|     hblock0.conv2.style_block.0.bias     |    256     |\n",
      "|          hblock0.addnoise2.std           |    256     |\n",
      "|           hblock0.proj.weight            |    1536    |\n",
      "|            hblock0.proj.bias             |     6      |\n",
      "|    hblock0.proj.style_block.0.weight     |    256     |\n",
      "|     hblock0.proj.style_block.0.bias      |    256     |\n",
      "|        hblock0.noise_proj1.weight        |    1536    |\n",
      "|         hblock0.noise_proj1.bias         |    256     |\n",
      "| hblock0.noise_proj1.style_block.0.weight |     6      |\n",
      "|  hblock0.noise_proj1.style_block.0.bias  |     6      |\n",
      "|        hblock0.noise_proj2.weight        |    1536    |\n",
      "|         hblock0.noise_proj2.bias         |    256     |\n",
      "| hblock0.noise_proj2.style_block.0.weight |     6      |\n",
      "|  hblock0.noise_proj2.style_block.0.bias  |     6      |\n",
      "|           hblock1.conv1.weight           |   884736   |\n",
      "|            hblock1.conv1.bias            |    128     |\n",
      "|    hblock1.conv1.style_block.0.weight    |    256     |\n",
      "|     hblock1.conv1.style_block.0.bias     |    256     |\n",
      "|          hblock1.addnoise1.std           |    128     |\n",
      "|           hblock1.conv2.weight           |   442368   |\n",
      "|            hblock1.conv2.bias            |    128     |\n",
      "|    hblock1.conv2.style_block.0.weight    |    128     |\n",
      "|     hblock1.conv2.style_block.0.bias     |    128     |\n",
      "|          hblock1.addnoise2.std           |    128     |\n",
      "|           hblock1.proj.weight            |    768     |\n",
      "|            hblock1.proj.bias             |     6      |\n",
      "|    hblock1.proj.style_block.0.weight     |    128     |\n",
      "|     hblock1.proj.style_block.0.bias      |    128     |\n",
      "|        hblock1.noise_proj1.weight        |    768     |\n",
      "|         hblock1.noise_proj1.bias         |    128     |\n",
      "| hblock1.noise_proj1.style_block.0.weight |     6      |\n",
      "|  hblock1.noise_proj1.style_block.0.bias  |     6      |\n",
      "|        hblock1.noise_proj2.weight        |    768     |\n",
      "|         hblock1.noise_proj2.bias         |    128     |\n",
      "| hblock1.noise_proj2.style_block.0.weight |     6      |\n",
      "|  hblock1.noise_proj2.style_block.0.bias  |     6      |\n",
      "|           hblock2.conv1.weight           |   221184   |\n",
      "|            hblock2.conv1.bias            |     64     |\n",
      "|    hblock2.conv1.style_block.0.weight    |    128     |\n",
      "|     hblock2.conv1.style_block.0.bias     |    128     |\n",
      "|          hblock2.addnoise1.std           |     64     |\n",
      "|           hblock2.conv2.weight           |   110592   |\n",
      "|            hblock2.conv2.bias            |     64     |\n",
      "|    hblock2.conv2.style_block.0.weight    |     64     |\n",
      "|     hblock2.conv2.style_block.0.bias     |     64     |\n",
      "|          hblock2.addnoise2.std           |     64     |\n",
      "|           hblock2.proj.weight            |    384     |\n",
      "|            hblock2.proj.bias             |     6      |\n",
      "|    hblock2.proj.style_block.0.weight     |     64     |\n",
      "|     hblock2.proj.style_block.0.bias      |     64     |\n",
      "|        hblock2.noise_proj1.weight        |    384     |\n",
      "|         hblock2.noise_proj1.bias         |     64     |\n",
      "| hblock2.noise_proj1.style_block.0.weight |     6      |\n",
      "|  hblock2.noise_proj1.style_block.0.bias  |     6      |\n",
      "|        hblock2.noise_proj2.weight        |    384     |\n",
      "|         hblock2.noise_proj2.bias         |     64     |\n",
      "| hblock2.noise_proj2.style_block.0.weight |     6      |\n",
      "|  hblock2.noise_proj2.style_block.0.bias  |     6      |\n",
      "|            noise_proj.weight             |    3072    |\n",
      "|             noise_proj.bias              |    512     |\n",
      "|     noise_proj.style_block.0.weight      |     6      |\n",
      "|      noise_proj.style_block.0.bias       |     6      |\n",
      "+------------------------------------------+------------+\n",
      "Total Trainable Params: 6989426\n"
     ]
    },
    {
     "data": {
      "text/plain": [
       "6989426"
      ]
     },
     "execution_count": 5,
     "metadata": {},
     "output_type": "execute_result"
    }
   ],
   "source": [
    "count_parameters(G)"
   ]
  },
  {
   "cell_type": "code",
   "execution_count": 6,
   "metadata": {},
   "outputs": [],
   "source": [
    "from torchinfo import summary"
   ]
  },
  {
   "cell_type": "code",
   "execution_count": 7,
   "metadata": {},
   "outputs": [
    {
     "data": {
      "text/plain": [
       "==========================================================================================\n",
       "Layer (type:depth-idx)                   Output Shape              Param #\n",
       "==========================================================================================\n",
       "Generator                                --                        --\n",
       "├─ConvStyled3d: 1-1                      [1, 512, 22, 22, 22]      --\n",
       "│    └─Sequential: 2-1                   [1, 6]                    --\n",
       "│    │    └─Linear: 3-1                  [1, 6]                    12\n",
       "├─LeakyReLUStyled: 1-2                   [1, 512, 22, 22, 22]      --\n",
       "├─ConvStyled3d: 1-3                      [1, 512, 22, 22, 22]      --\n",
       "│    └─Sequential: 2-2                   [1, 6]                    --\n",
       "│    │    └─Linear: 3-2                  [1, 6]                    12\n",
       "├─AddNoise: 1-4                          [1, 512, 22, 22, 22]      512\n",
       "├─HBlock: 1-5                            [1, 256, 38, 38, 38]      --\n",
       "│    └─Resampler: 2-3                    [1, 512, 42, 42, 42]      --\n",
       "│    └─ConvStyled3d: 2-4                 [1, 256, 40, 40, 40]      --\n",
       "│    │    └─Sequential: 3-3              [1, 512]                  1,024\n",
       "│    └─LeakyReLUStyled: 2-5              [1, 256, 40, 40, 40]      --\n",
       "│    └─ConvStyled3d: 2-6                 [1, 256, 40, 40, 40]      --\n",
       "│    │    └─Sequential: 3-4              [1, 6]                    12\n",
       "│    └─AddNoise: 2-7                     [1, 256, 40, 40, 40]      256\n",
       "│    └─ConvStyled3d: 2-8                 [1, 256, 38, 38, 38]      --\n",
       "│    │    └─Sequential: 3-5              [1, 256]                  512\n",
       "│    └─LeakyReLUStyled: 2-9              [1, 256, 38, 38, 38]      --\n",
       "│    └─ConvStyled3d: 2-10                [1, 256, 38, 38, 38]      --\n",
       "│    │    └─Sequential: 3-6              [1, 6]                    12\n",
       "│    └─AddNoise: 2-11                    [1, 256, 38, 38, 38]      256\n",
       "│    └─Resampler: 2-12                   [1, 6, 42, 42, 42]        --\n",
       "│    └─ConvStyled3d: 2-13                [1, 6, 38, 38, 38]        --\n",
       "│    │    └─Sequential: 3-7              [1, 256]                  512\n",
       "│    └─LeakyReLUStyled: 2-14             [1, 6, 38, 38, 38]        --\n",
       "├─HBlock: 1-6                            [1, 128, 70, 70, 70]      --\n",
       "│    └─Resampler: 2-15                   [1, 256, 74, 74, 74]      --\n",
       "│    └─ConvStyled3d: 2-16                [1, 128, 72, 72, 72]      --\n",
       "│    │    └─Sequential: 3-8              [1, 256]                  512\n",
       "│    └─LeakyReLUStyled: 2-17             [1, 128, 72, 72, 72]      --\n",
       "│    └─ConvStyled3d: 2-18                [1, 128, 72, 72, 72]      --\n",
       "│    │    └─Sequential: 3-9              [1, 6]                    12\n",
       "│    └─AddNoise: 2-19                    [1, 128, 72, 72, 72]      128\n",
       "│    └─ConvStyled3d: 2-20                [1, 128, 70, 70, 70]      --\n",
       "│    │    └─Sequential: 3-10             [1, 128]                  256\n",
       "│    └─LeakyReLUStyled: 2-21             [1, 128, 70, 70, 70]      --\n",
       "│    └─ConvStyled3d: 2-22                [1, 128, 70, 70, 70]      --\n",
       "│    │    └─Sequential: 3-11             [1, 6]                    12\n",
       "│    └─AddNoise: 2-23                    [1, 128, 70, 70, 70]      128\n",
       "│    └─Resampler: 2-24                   [1, 6, 74, 74, 74]        --\n",
       "│    └─ConvStyled3d: 2-25                [1, 6, 70, 70, 70]        --\n",
       "│    │    └─Sequential: 3-12             [1, 128]                  256\n",
       "│    └─LeakyReLUStyled: 2-26             [1, 6, 70, 70, 70]        --\n",
       "├─HBlock: 1-7                            [1, 64, 134, 134, 134]    --\n",
       "│    └─Resampler: 2-27                   [1, 128, 138, 138, 138]   --\n",
       "│    └─ConvStyled3d: 2-28                [1, 64, 136, 136, 136]    --\n",
       "│    │    └─Sequential: 3-13             [1, 128]                  256\n",
       "│    └─LeakyReLUStyled: 2-29             [1, 64, 136, 136, 136]    --\n",
       "│    └─ConvStyled3d: 2-30                [1, 64, 136, 136, 136]    --\n",
       "│    │    └─Sequential: 3-14             [1, 6]                    12\n",
       "│    └─AddNoise: 2-31                    [1, 64, 136, 136, 136]    64\n",
       "│    └─ConvStyled3d: 2-32                [1, 64, 134, 134, 134]    --\n",
       "│    │    └─Sequential: 3-15             [1, 64]                   128\n",
       "│    └─LeakyReLUStyled: 2-33             [1, 64, 134, 134, 134]    --\n",
       "│    └─ConvStyled3d: 2-34                [1, 64, 134, 134, 134]    --\n",
       "│    │    └─Sequential: 3-16             [1, 6]                    12\n",
       "│    └─AddNoise: 2-35                    [1, 64, 134, 134, 134]    64\n",
       "│    └─Resampler: 2-36                   [1, 6, 138, 138, 138]     --\n",
       "│    └─ConvStyled3d: 2-37                [1, 6, 134, 134, 134]     --\n",
       "│    │    └─Sequential: 3-17             [1, 64]                   128\n",
       "│    └─LeakyReLUStyled: 2-38             [1, 6, 134, 134, 134]     --\n",
       "==========================================================================================\n",
       "Total params: 5,088\n",
       "Trainable params: 5,088\n",
       "Non-trainable params: 0\n",
       "Total mult-adds (M): 0.00\n",
       "==========================================================================================\n",
       "Input size (MB): 138.67\n",
       "Forward/backward pass size (MB): 3540.36\n",
       "Params size (MB): 0.02\n",
       "Estimated Total Size (MB): 3679.05\n",
       "=========================================================================================="
      ]
     },
     "execution_count": 7,
     "metadata": {},
     "output_type": "execute_result"
    }
   ],
   "source": [
    "summary(G, [(1 ,6, 22, 22, 22), (1, 1), (1, 6, 22, 22, 22), (1, 6, 40, 40, 40), (1, 6, 38, 38, 38), (1, 6, 72, 72, 72), (1, 6, 70, 70, 70), (1, 6, 136, 136, 136), (1, 6, 134, 134, 134)])"
   ]
  },
  {
   "cell_type": "code",
   "execution_count": null,
   "metadata": {},
   "outputs": [],
   "source": []
  }
 ],
 "metadata": {
  "kernelspec": {
   "display_name": "Python 3 (ipykernel)",
   "language": "python",
   "name": "python3"
  },
  "language_info": {
   "codemirror_mode": {
    "name": "ipython",
    "version": 3
   },
   "file_extension": ".py",
   "mimetype": "text/x-python",
   "name": "python",
   "nbconvert_exporter": "python",
   "pygments_lexer": "ipython3",
   "version": "3.7.13"
  },
  "orig_nbformat": 4
 },
 "nbformat": 4,
 "nbformat_minor": 2
}
