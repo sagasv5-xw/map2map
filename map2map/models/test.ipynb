{
 "cells": [
  {
   "cell_type": "code",
   "execution_count": 1,
   "metadata": {},
   "outputs": [],
   "source": [
    "import torch"
   ]
  },
  {
   "cell_type": "code",
   "execution_count": null,
   "metadata": {},
   "outputs": [],
   "source": [
    "from sr_emu import Generator"
   ]
  },
  {
   "cell_type": "code",
   "execution_count": null,
   "metadata": {},
   "outputs": [],
   "source": [
    "G = Generator(6, 6, 1)"
   ]
  },
  {
   "cell_type": "code",
   "execution_count": null,
   "metadata": {},
   "outputs": [],
   "source": [
    "from prettytable import PrettyTable\n",
    "\n",
    "def count_parameters(model):\n",
    "    table = PrettyTable([\"Modules\", \"Parameters\"])\n",
    "    total_params = 0\n",
    "    for name, parameter in model.named_parameters():\n",
    "        if not parameter.requires_grad: continue\n",
    "        params = parameter.numel()\n",
    "        table.add_row([name, params])\n",
    "        total_params+=params\n",
    "    print(table)\n",
    "    print(f\"Total Trainable Params: {total_params}\")\n",
    "    return total_params\n"
   ]
  },
  {
   "cell_type": "code",
   "execution_count": null,
   "metadata": {},
   "outputs": [
    {
     "name": "stdout",
     "output_type": "stream",
     "text": [
      "+------------------------------------------+------------+\n",
      "|                 Modules                  | Parameters |\n",
      "+------------------------------------------+------------+\n",
      "|              block0.weight               |    3072    |\n",
      "|               block0.bias                |    512     |\n",
      "|       block0.style_block.0.weight        |     6      |\n",
      "|        block0.style_block.0.bias         |     6      |\n",
      "|               addnoise.std               |    512     |\n",
      "|           hblock0.conv1.weight           |  3538944   |\n",
      "|            hblock0.conv1.bias            |    256     |\n",
      "|    hblock0.conv1.style_block.0.weight    |    512     |\n",
      "|     hblock0.conv1.style_block.0.bias     |    512     |\n",
      "|          hblock0.addnoise1.std           |    256     |\n",
      "|           hblock0.conv2.weight           |  1769472   |\n",
      "|            hblock0.conv2.bias            |    256     |\n",
      "|    hblock0.conv2.style_block.0.weight    |    256     |\n",
      "|     hblock0.conv2.style_block.0.bias     |    256     |\n",
      "|          hblock0.addnoise2.std           |    256     |\n",
      "|           hblock0.proj.weight            |    1536    |\n",
      "|            hblock0.proj.bias             |     6      |\n",
      "|    hblock0.proj.style_block.0.weight     |    256     |\n",
      "|     hblock0.proj.style_block.0.bias      |    256     |\n",
      "|        hblock0.noise_proj1.weight        |    1536    |\n",
      "|         hblock0.noise_proj1.bias         |    256     |\n",
      "| hblock0.noise_proj1.style_block.0.weight |     6      |\n",
      "|  hblock0.noise_proj1.style_block.0.bias  |     6      |\n",
      "|        hblock0.noise_proj2.weight        |    1536    |\n",
      "|         hblock0.noise_proj2.bias         |    256     |\n",
      "| hblock0.noise_proj2.style_block.0.weight |     6      |\n",
      "|  hblock0.noise_proj2.style_block.0.bias  |     6      |\n",
      "|           hblock1.conv1.weight           |   884736   |\n",
      "|            hblock1.conv1.bias            |    128     |\n",
      "|    hblock1.conv1.style_block.0.weight    |    256     |\n",
      "|     hblock1.conv1.style_block.0.bias     |    256     |\n",
      "|          hblock1.addnoise1.std           |    128     |\n",
      "|           hblock1.conv2.weight           |   442368   |\n",
      "|            hblock1.conv2.bias            |    128     |\n",
      "|    hblock1.conv2.style_block.0.weight    |    128     |\n",
      "|     hblock1.conv2.style_block.0.bias     |    128     |\n",
      "|          hblock1.addnoise2.std           |    128     |\n",
      "|           hblock1.proj.weight            |    768     |\n",
      "|            hblock1.proj.bias             |     6      |\n",
      "|    hblock1.proj.style_block.0.weight     |    128     |\n",
      "|     hblock1.proj.style_block.0.bias      |    128     |\n",
      "|        hblock1.noise_proj1.weight        |    768     |\n",
      "|         hblock1.noise_proj1.bias         |    128     |\n",
      "| hblock1.noise_proj1.style_block.0.weight |     6      |\n",
      "|  hblock1.noise_proj1.style_block.0.bias  |     6      |\n",
      "|        hblock1.noise_proj2.weight        |    768     |\n",
      "|         hblock1.noise_proj2.bias         |    128     |\n",
      "| hblock1.noise_proj2.style_block.0.weight |     6      |\n",
      "|  hblock1.noise_proj2.style_block.0.bias  |     6      |\n",
      "|           hblock2.conv1.weight           |   221184   |\n",
      "|            hblock2.conv1.bias            |     64     |\n",
      "|    hblock2.conv1.style_block.0.weight    |    128     |\n",
      "|     hblock2.conv1.style_block.0.bias     |    128     |\n",
      "|          hblock2.addnoise1.std           |     64     |\n",
      "|           hblock2.conv2.weight           |   110592   |\n",
      "|            hblock2.conv2.bias            |     64     |\n",
      "|    hblock2.conv2.style_block.0.weight    |     64     |\n",
      "|     hblock2.conv2.style_block.0.bias     |     64     |\n",
      "|          hblock2.addnoise2.std           |     64     |\n",
      "|           hblock2.proj.weight            |    384     |\n",
      "|            hblock2.proj.bias             |     6      |\n",
      "|    hblock2.proj.style_block.0.weight     |     64     |\n",
      "|     hblock2.proj.style_block.0.bias      |     64     |\n",
      "|        hblock2.noise_proj1.weight        |    384     |\n",
      "|         hblock2.noise_proj1.bias         |     64     |\n",
      "| hblock2.noise_proj1.style_block.0.weight |     6      |\n",
      "|  hblock2.noise_proj1.style_block.0.bias  |     6      |\n",
      "|        hblock2.noise_proj2.weight        |    384     |\n",
      "|         hblock2.noise_proj2.bias         |     64     |\n",
      "| hblock2.noise_proj2.style_block.0.weight |     6      |\n",
      "|  hblock2.noise_proj2.style_block.0.bias  |     6      |\n",
      "|            noise_proj.weight             |    3072    |\n",
      "|             noise_proj.bias              |    512     |\n",
      "|     noise_proj.style_block.0.weight      |     6      |\n",
      "|      noise_proj.style_block.0.bias       |     6      |\n",
      "+------------------------------------------+------------+\n",
      "Total Trainable Params: 6989426\n"
     ]
    },
    {
     "data": {
      "text/plain": [
       "6989426"
      ]
     },
     "execution_count": 5,
     "metadata": {},
     "output_type": "execute_result"
    }
   ],
   "source": [
    "count_parameters(G)"
   ]
  },
  {
   "cell_type": "code",
   "execution_count": null,
   "metadata": {},
   "outputs": [],
   "source": [
    "state = torch.load('/hildafs/home/xzhangn/state_710.pt')"
   ]
  },
  {
   "cell_type": "code",
   "execution_count": 6,
   "metadata": {},
   "outputs": [
    {
     "data": {
      "text/plain": [
       "Generator(\n",
       "  (block0): ConvStyled3d(\n",
       "    (style_block): Sequential(\n",
       "      (0): Linear(in_features=1, out_features=6, bias=True)\n",
       "    )\n",
       "  )\n",
       "  (act): LeakyReLUStyled(negative_slope=0.2, inplace=True)\n",
       "  (addnoise): AddNoise()\n",
       "  (hblock0): HBlock(\n",
       "    (act): LeakyReLUStyled(negative_slope=0.2, inplace=True)\n",
       "    (upsample): Resampler()\n",
       "    (conv1): ConvStyled3d(\n",
       "      (style_block): Sequential(\n",
       "        (0): Linear(in_features=1, out_features=512, bias=True)\n",
       "      )\n",
       "    )\n",
       "    (addnoise1): AddNoise()\n",
       "    (conv2): ConvStyled3d(\n",
       "      (style_block): Sequential(\n",
       "        (0): Linear(in_features=1, out_features=256, bias=True)\n",
       "      )\n",
       "    )\n",
       "    (addnoise2): AddNoise()\n",
       "    (proj): ConvStyled3d(\n",
       "      (style_block): Sequential(\n",
       "        (0): Linear(in_features=1, out_features=256, bias=True)\n",
       "      )\n",
       "    )\n",
       "    (noise_proj1): ConvStyled3d(\n",
       "      (style_block): Sequential(\n",
       "        (0): Linear(in_features=1, out_features=6, bias=True)\n",
       "      )\n",
       "    )\n",
       "    (noise_proj2): ConvStyled3d(\n",
       "      (style_block): Sequential(\n",
       "        (0): Linear(in_features=1, out_features=6, bias=True)\n",
       "      )\n",
       "    )\n",
       "  )\n",
       "  (hblock1): HBlock(\n",
       "    (act): LeakyReLUStyled(negative_slope=0.2, inplace=True)\n",
       "    (upsample): Resampler()\n",
       "    (conv1): ConvStyled3d(\n",
       "      (style_block): Sequential(\n",
       "        (0): Linear(in_features=1, out_features=256, bias=True)\n",
       "      )\n",
       "    )\n",
       "    (addnoise1): AddNoise()\n",
       "    (conv2): ConvStyled3d(\n",
       "      (style_block): Sequential(\n",
       "        (0): Linear(in_features=1, out_features=128, bias=True)\n",
       "      )\n",
       "    )\n",
       "    (addnoise2): AddNoise()\n",
       "    (proj): ConvStyled3d(\n",
       "      (style_block): Sequential(\n",
       "        (0): Linear(in_features=1, out_features=128, bias=True)\n",
       "      )\n",
       "    )\n",
       "    (noise_proj1): ConvStyled3d(\n",
       "      (style_block): Sequential(\n",
       "        (0): Linear(in_features=1, out_features=6, bias=True)\n",
       "      )\n",
       "    )\n",
       "    (noise_proj2): ConvStyled3d(\n",
       "      (style_block): Sequential(\n",
       "        (0): Linear(in_features=1, out_features=6, bias=True)\n",
       "      )\n",
       "    )\n",
       "  )\n",
       "  (hblock2): HBlock(\n",
       "    (act): LeakyReLUStyled(negative_slope=0.2, inplace=True)\n",
       "    (upsample): Resampler()\n",
       "    (conv1): ConvStyled3d(\n",
       "      (style_block): Sequential(\n",
       "        (0): Linear(in_features=1, out_features=128, bias=True)\n",
       "      )\n",
       "    )\n",
       "    (addnoise1): AddNoise()\n",
       "    (conv2): ConvStyled3d(\n",
       "      (style_block): Sequential(\n",
       "        (0): Linear(in_features=1, out_features=64, bias=True)\n",
       "      )\n",
       "    )\n",
       "    (addnoise2): AddNoise()\n",
       "    (proj): ConvStyled3d(\n",
       "      (style_block): Sequential(\n",
       "        (0): Linear(in_features=1, out_features=64, bias=True)\n",
       "      )\n",
       "    )\n",
       "    (noise_proj1): ConvStyled3d(\n",
       "      (style_block): Sequential(\n",
       "        (0): Linear(in_features=1, out_features=6, bias=True)\n",
       "      )\n",
       "    )\n",
       "    (noise_proj2): ConvStyled3d(\n",
       "      (style_block): Sequential(\n",
       "        (0): Linear(in_features=1, out_features=6, bias=True)\n",
       "      )\n",
       "    )\n",
       "  )\n",
       "  (noise_proj): ConvStyled3d(\n",
       "    (style_block): Sequential(\n",
       "      (0): Linear(in_features=1, out_features=6, bias=True)\n",
       "    )\n",
       "  )\n",
       ")"
      ]
     },
     "execution_count": 6,
     "metadata": {},
     "output_type": "execute_result"
    }
   ],
   "source": [
    "G.cuda()"
   ]
  },
  {
   "cell_type": "code",
   "execution_count": 7,
   "metadata": {},
   "outputs": [],
   "source": [
    "input_size = 24\n",
    "padding = 3\n",
    "N = input_size + 2 * padding\n",
    "noise_padding = 4\n",
    "noise0_N = input_size*2 + 2 * noise_padding\n",
    "noise1_N = input_size*4 + 2 * noise_padding\n",
    "noise2_N = input_size*8 + 2 * noise_padding"
   ]
  },
  {
   "cell_type": "code",
   "execution_count": 8,
   "metadata": {},
   "outputs": [],
   "source": [
    "input = torch.randn(1, 6, N, N, N).cuda()\n",
    "style = torch.randn(1, 1).cuda()\n",
    "early_noise = torch.randn(1, 6, N, N, N).cuda()\n",
    "noise0 = torch.randn(1, 6, noise0_N, noise0_N, noise0_N).cuda()\n",
    "noise1 = torch.randn(1, 6, noise1_N, noise1_N, noise1_N).cuda()\n",
    "noise2 = torch.randn(1, 6, noise2_N, noise2_N, noise2_N).cuda()"
   ]
  },
  {
   "cell_type": "code",
   "execution_count": 9,
   "metadata": {},
   "outputs": [],
   "source": [
    "out = G(input, style, early_noise, noise0, noise1, noise2)"
   ]
  },
  {
   "cell_type": "code",
   "execution_count": 10,
   "metadata": {},
   "outputs": [
    {
     "name": "stdout",
     "output_type": "stream",
     "text": [
      "|===========================================================================|\n",
      "|                  PyTorch CUDA memory summary, device ID 0                 |\n",
      "|---------------------------------------------------------------------------|\n",
      "|            CUDA OOMs: 0            |        cudaMalloc retries: 0         |\n",
      "|===========================================================================|\n",
      "|        Metric         | Cur Usage  | Peak Usage | Tot Alloc  | Tot Freed  |\n",
      "|---------------------------------------------------------------------------|\n",
      "| Allocated memory      |   22309 MB |   23874 MB |   43255 MB |   20945 MB |\n",
      "|       from large pool |   22304 MB |   23869 MB |   43246 MB |   20942 MB |\n",
      "|       from small pool |       5 MB |       5 MB |       8 MB |       3 MB |\n",
      "|---------------------------------------------------------------------------|\n",
      "| Active memory         |   22309 MB |   23874 MB |   43255 MB |   20945 MB |\n",
      "|       from large pool |   22304 MB |   23869 MB |   43246 MB |   20942 MB |\n",
      "|       from small pool |       5 MB |       5 MB |       8 MB |       3 MB |\n",
      "|---------------------------------------------------------------------------|\n",
      "| GPU reserved memory   |   25956 MB |   25956 MB |   25956 MB |       0 B  |\n",
      "|       from large pool |   25950 MB |   25950 MB |   25950 MB |       0 B  |\n",
      "|       from small pool |       6 MB |       6 MB |       6 MB |       0 B  |\n",
      "|---------------------------------------------------------------------------|\n",
      "| Non-releasable memory |  373239 KB |    4486 MB |   12593 MB |   12228 MB |\n",
      "|       from large pool |  372483 KB |    4485 MB |   12585 MB |   12221 MB |\n",
      "|       from small pool |     755 KB |       1 MB |       7 MB |       7 MB |\n",
      "|---------------------------------------------------------------------------|\n",
      "| Allocations           |     176    |     178    |     262    |      86    |\n",
      "|       from large pool |      42    |      44    |      79    |      37    |\n",
      "|       from small pool |     134    |     134    |     183    |      49    |\n",
      "|---------------------------------------------------------------------------|\n",
      "| Active allocs         |     176    |     178    |     262    |      86    |\n",
      "|       from large pool |      42    |      44    |      79    |      37    |\n",
      "|       from small pool |     134    |     134    |     183    |      49    |\n",
      "|---------------------------------------------------------------------------|\n",
      "| GPU reserved segments |      31    |      31    |      31    |       0    |\n",
      "|       from large pool |      28    |      28    |      28    |       0    |\n",
      "|       from small pool |       3    |       3    |       3    |       0    |\n",
      "|---------------------------------------------------------------------------|\n",
      "| Non-releasable allocs |      13    |      16    |      58    |      45    |\n",
      "|       from large pool |      10    |      13    |      29    |      19    |\n",
      "|       from small pool |       3    |       3    |      29    |      26    |\n",
      "|---------------------------------------------------------------------------|\n",
      "| Oversize allocations  |       0    |       0    |       0    |       0    |\n",
      "|---------------------------------------------------------------------------|\n",
      "| Oversize GPU segments |       0    |       0    |       0    |       0    |\n",
      "|===========================================================================|\n",
      "\n"
     ]
    }
   ],
   "source": [
    "print(torch.cuda.memory_summary())"
   ]
  },
  {
   "cell_type": "code",
   "execution_count": 11,
   "metadata": {},
   "outputs": [
    {
     "name": "stdout",
     "output_type": "stream",
     "text": [
      "25033991680\n"
     ]
    }
   ],
   "source": [
    "print(torch.cuda.max_memory_allocated())"
   ]
  },
  {
   "cell_type": "code",
   "execution_count": 12,
   "metadata": {},
   "outputs": [
    {
     "name": "stdout",
     "output_type": "stream",
     "text": [
      "Thu Jun  8 14:56:24 2023       \n",
      "+-----------------------------------------------------------------------------+\n",
      "| NVIDIA-SMI 470.57.02    Driver Version: 470.57.02    CUDA Version: 11.4     |\n",
      "|-------------------------------+----------------------+----------------------+\n",
      "| GPU  Name        Persistence-M| Bus-Id        Disp.A | Volatile Uncorr. ECC |\n",
      "| Fan  Temp  Perf  Pwr:Usage/Cap|         Memory-Usage | GPU-Util  Compute M. |\n",
      "|                               |                      |               MIG M. |\n",
      "|===============================+======================+======================|\n",
      "|   0  NVIDIA A100-SXM...  On   | 00000000:01:00.0 Off |                    0 |\n",
      "| N/A   30C    P0    67W / 400W |  27870MiB / 40536MiB |     52%      Default |\n",
      "|                               |                      |             Disabled |\n",
      "+-------------------------------+----------------------+----------------------+\n",
      "                                                                               \n",
      "+-----------------------------------------------------------------------------+\n",
      "| Processes:                                                                  |\n",
      "|  GPU   GI   CI        PID   Type   Process name                  GPU Memory |\n",
      "|        ID   ID                                                   Usage      |\n",
      "|=============================================================================|\n",
      "|    0   N/A  N/A   1468901      C   ...da3/envs/torch/bin/python    27867MiB |\n",
      "+-----------------------------------------------------------------------------+\n"
     ]
    }
   ],
   "source": [
    "!nvidia-smi"
   ]
  },
  {
   "cell_type": "code",
   "execution_count": 13,
   "metadata": {},
   "outputs": [],
   "source": [
    "loss = out.sum()\n",
    "loss.backward()"
   ]
  },
  {
   "cell_type": "code",
   "execution_count": 14,
   "metadata": {},
   "outputs": [
    {
     "name": "stdout",
     "output_type": "stream",
     "text": [
      "27884080128\n"
     ]
    }
   ],
   "source": [
    "print(torch.cuda.max_memory_allocated())"
   ]
  },
  {
   "cell_type": "code",
   "execution_count": null,
   "metadata": {},
   "outputs": [],
   "source": []
  }
 ],
 "metadata": {
  "kernelspec": {
   "display_name": "Python 3 (ipykernel)",
   "language": "python",
   "name": "python3"
  },
  "language_info": {
   "codemirror_mode": {
    "name": "ipython",
    "version": 3
   },
   "file_extension": ".py",
   "mimetype": "text/x-python",
   "name": "python",
   "nbconvert_exporter": "python",
   "pygments_lexer": "ipython3",
   "version": "3.7.13"
  },
  "orig_nbformat": 4
 },
 "nbformat": 4,
 "nbformat_minor": 2
}
