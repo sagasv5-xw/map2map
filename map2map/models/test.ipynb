{
 "cells": [
  {
   "cell_type": "code",
   "execution_count": 1,
   "metadata": {},
   "outputs": [
    {
     "name": "stderr",
     "output_type": "stream",
     "text": [
      "/hildafs/projects/phy200018p/xzhangn/source/anaconda3/envs/torch/lib/python3.7/site-packages/tqdm/auto.py:21: TqdmWarning: IProgress not found. Please update jupyter and ipywidgets. See https://ipywidgets.readthedocs.io/en/stable/user_install.html\n",
      "  from .autonotebook import tqdm as notebook_tqdm\n"
     ]
    }
   ],
   "source": [
    "import torch"
   ]
  },
  {
   "cell_type": "code",
   "execution_count": 22,
   "metadata": {},
   "outputs": [],
   "source": [
    "from sr_emu import Generator\n",
    "from prettytable import PrettyTable"
   ]
  },
  {
   "cell_type": "code",
   "execution_count": 3,
   "metadata": {},
   "outputs": [],
   "source": [
    "G = Generator(6, 6, 1)"
   ]
  },
  {
   "cell_type": "code",
   "execution_count": 5,
   "metadata": {},
   "outputs": [
    {
     "data": {
      "text/plain": [
       "Generator(\n",
       "  (convblock0): ConvStyled3d(\n",
       "    (style_block): Sequential(\n",
       "      (0): Linear(in_features=1, out_features=6, bias=True)\n",
       "    )\n",
       "  )\n",
       "  (act): LeakyReLUStyled(negative_slope=0.2, inplace=True)\n",
       "  (addnoise): AddNoise()\n",
       "  (hblock0): HBlock(\n",
       "    (act): LeakyReLUStyled(negative_slope=0.2, inplace=True)\n",
       "    (upsample): Resampler()\n",
       "    (conv1): ConvStyled3d(\n",
       "      (style_block): Sequential(\n",
       "        (0): Linear(in_features=1, out_features=512, bias=True)\n",
       "      )\n",
       "    )\n",
       "    (addnoise1): AddNoise()\n",
       "    (conv2): ConvStyled3d(\n",
       "      (style_block): Sequential(\n",
       "        (0): Linear(in_features=1, out_features=256, bias=True)\n",
       "      )\n",
       "    )\n",
       "    (addnoise2): AddNoise()\n",
       "    (proj): ConvStyled3d(\n",
       "      (style_block): Sequential(\n",
       "        (0): Linear(in_features=1, out_features=256, bias=True)\n",
       "      )\n",
       "    )\n",
       "    (noise_proj1): ConvStyled3d(\n",
       "      (style_block): Sequential(\n",
       "        (0): Linear(in_features=1, out_features=6, bias=True)\n",
       "      )\n",
       "    )\n",
       "    (noise_proj2): ConvStyled3d(\n",
       "      (style_block): Sequential(\n",
       "        (0): Linear(in_features=1, out_features=6, bias=True)\n",
       "      )\n",
       "    )\n",
       "  )\n",
       "  (hblock1): HBlock(\n",
       "    (act): LeakyReLUStyled(negative_slope=0.2, inplace=True)\n",
       "    (upsample): Resampler()\n",
       "    (conv1): ConvStyled3d(\n",
       "      (style_block): Sequential(\n",
       "        (0): Linear(in_features=1, out_features=256, bias=True)\n",
       "      )\n",
       "    )\n",
       "    (addnoise1): AddNoise()\n",
       "    (conv2): ConvStyled3d(\n",
       "      (style_block): Sequential(\n",
       "        (0): Linear(in_features=1, out_features=128, bias=True)\n",
       "      )\n",
       "    )\n",
       "    (addnoise2): AddNoise()\n",
       "    (proj): ConvStyled3d(\n",
       "      (style_block): Sequential(\n",
       "        (0): Linear(in_features=1, out_features=128, bias=True)\n",
       "      )\n",
       "    )\n",
       "    (noise_proj1): ConvStyled3d(\n",
       "      (style_block): Sequential(\n",
       "        (0): Linear(in_features=1, out_features=6, bias=True)\n",
       "      )\n",
       "    )\n",
       "    (noise_proj2): ConvStyled3d(\n",
       "      (style_block): Sequential(\n",
       "        (0): Linear(in_features=1, out_features=6, bias=True)\n",
       "      )\n",
       "    )\n",
       "  )\n",
       "  (hblock2): HBlock(\n",
       "    (act): LeakyReLUStyled(negative_slope=0.2, inplace=True)\n",
       "    (upsample): Resampler()\n",
       "    (conv1): ConvStyled3d(\n",
       "      (style_block): Sequential(\n",
       "        (0): Linear(in_features=1, out_features=128, bias=True)\n",
       "      )\n",
       "    )\n",
       "    (addnoise1): AddNoise()\n",
       "    (conv2): ConvStyled3d(\n",
       "      (style_block): Sequential(\n",
       "        (0): Linear(in_features=1, out_features=64, bias=True)\n",
       "      )\n",
       "    )\n",
       "    (addnoise2): AddNoise()\n",
       "    (proj): ConvStyled3d(\n",
       "      (style_block): Sequential(\n",
       "        (0): Linear(in_features=1, out_features=64, bias=True)\n",
       "      )\n",
       "    )\n",
       "    (noise_proj1): ConvStyled3d(\n",
       "      (style_block): Sequential(\n",
       "        (0): Linear(in_features=1, out_features=6, bias=True)\n",
       "      )\n",
       "    )\n",
       "    (noise_proj2): ConvStyled3d(\n",
       "      (style_block): Sequential(\n",
       "        (0): Linear(in_features=1, out_features=6, bias=True)\n",
       "      )\n",
       "    )\n",
       "  )\n",
       "  (noise_proj): ConvStyled3d(\n",
       "    (style_block): Sequential(\n",
       "      (0): Linear(in_features=1, out_features=6, bias=True)\n",
       "    )\n",
       "  )\n",
       ")"
      ]
     },
     "execution_count": 5,
     "metadata": {},
     "output_type": "execute_result"
    }
   ],
   "source": [
    "G.cuda()"
   ]
  },
  {
   "cell_type": "code",
   "execution_count": 6,
   "metadata": {},
   "outputs": [],
   "source": [
    "new_state_dict = {\n",
    "    'model':G.state_dict()\n",
    "}\n",
    "torch.save(new_state_dict, '/hildafs/home/xzhangn/xzhangn/emulator_sr/5-training/test_run-2-0/GAN_state/G.pt')\n"
   ]
  },
  {
   "cell_type": "code",
   "execution_count": 7,
   "metadata": {},
   "outputs": [],
   "source": [
    "new_G = torch.load('/hildafs/home/xzhangn/xzhangn/emulator_sr/5-training/test_run-2-0/GAN_state/G.pt')\n",
    "old_G = torch.load('/hildafs/home/xzhangn/xzhangn/emulator_sr/5-training/test_run-2-0/GAN_state/state_710.pt')"
   ]
  },
  {
   "cell_type": "code",
   "execution_count": 8,
   "metadata": {},
   "outputs": [],
   "source": [
    "new_G_state = new_G['model']\n",
    "old_G_state = old_G['model']"
   ]
  },
  {
   "cell_type": "code",
   "execution_count": 9,
   "metadata": {},
   "outputs": [],
   "source": [
    "new_keys = list(new_G_state.keys())\n",
    "old_keys = list(old_G_state.keys())"
   ]
  },
  {
   "cell_type": "code",
   "execution_count": 10,
   "metadata": {},
   "outputs": [
    {
     "name": "stdout",
     "output_type": "stream",
     "text": [
      "75\n",
      "46\n"
     ]
    }
   ],
   "source": [
    "print(len(new_keys))\n",
    "print(len(old_keys))"
   ]
  },
  {
   "cell_type": "code",
   "execution_count": 13,
   "metadata": {},
   "outputs": [],
   "source": [
    "freeze_keys = []\n",
    "for x in new_keys:\n",
    "    if 'conv' in x:\n",
    "        freeze_keys.append(x)"
   ]
  },
  {
   "cell_type": "code",
   "execution_count": 14,
   "metadata": {},
   "outputs": [
    {
     "name": "stdout",
     "output_type": "stream",
     "text": [
      "28\n"
     ]
    }
   ],
   "source": [
    "print(len(freeze_keys))"
   ]
  },
  {
   "cell_type": "code",
   "execution_count": 15,
   "metadata": {},
   "outputs": [
    {
     "name": "stdout",
     "output_type": "stream",
     "text": [
      "['convblock0.weight', 'convblock0.bias', 'convblock0.style_block.0.weight', 'convblock0.style_block.0.bias', 'hblock0.conv1.weight', 'hblock0.conv1.bias', 'hblock0.conv1.style_block.0.weight', 'hblock0.conv1.style_block.0.bias', 'hblock0.conv2.weight', 'hblock0.conv2.bias', 'hblock0.conv2.style_block.0.weight', 'hblock0.conv2.style_block.0.bias', 'hblock1.conv1.weight', 'hblock1.conv1.bias', 'hblock1.conv1.style_block.0.weight', 'hblock1.conv1.style_block.0.bias', 'hblock1.conv2.weight', 'hblock1.conv2.bias', 'hblock1.conv2.style_block.0.weight', 'hblock1.conv2.style_block.0.bias', 'hblock2.conv1.weight', 'hblock2.conv1.bias', 'hblock2.conv1.style_block.0.weight', 'hblock2.conv1.style_block.0.bias', 'hblock2.conv2.weight', 'hblock2.conv2.bias', 'hblock2.conv2.style_block.0.weight', 'hblock2.conv2.style_block.0.bias']\n"
     ]
    }
   ],
   "source": [
    "print(freeze_keys)"
   ]
  },
  {
   "cell_type": "code",
   "execution_count": 16,
   "metadata": {},
   "outputs": [],
   "source": [
    "old_keys_conv = []\n",
    "for x in old_keys:\n",
    "    if 'std' not in x:\n",
    "        old_keys_conv.append(x)"
   ]
  },
  {
   "cell_type": "code",
   "execution_count": 18,
   "metadata": {},
   "outputs": [
    {
     "name": "stdout",
     "output_type": "stream",
     "text": [
      "40\n",
      "['block0.0.weight', 'block0.0.bias', 'block0.0.style_block.0.weight', 'block0.0.style_block.0.bias', 'blocks.0.conv.0.weight', 'blocks.0.conv.0.bias', 'blocks.0.conv.0.style_block.0.weight', 'blocks.0.conv.0.style_block.0.bias', 'blocks.0.conv1.0.weight', 'blocks.0.conv1.0.bias', 'blocks.0.conv1.0.style_block.0.weight', 'blocks.0.conv1.0.style_block.0.bias', 'blocks.0.proj.0.weight', 'blocks.0.proj.0.bias', 'blocks.0.proj.0.style_block.0.weight', 'blocks.0.proj.0.style_block.0.bias', 'blocks.1.conv.0.weight', 'blocks.1.conv.0.bias', 'blocks.1.conv.0.style_block.0.weight', 'blocks.1.conv.0.style_block.0.bias', 'blocks.1.conv1.0.weight', 'blocks.1.conv1.0.bias', 'blocks.1.conv1.0.style_block.0.weight', 'blocks.1.conv1.0.style_block.0.bias', 'blocks.1.proj.0.weight', 'blocks.1.proj.0.bias', 'blocks.1.proj.0.style_block.0.weight', 'blocks.1.proj.0.style_block.0.bias', 'blocks.2.conv.0.weight', 'blocks.2.conv.0.bias', 'blocks.2.conv.0.style_block.0.weight', 'blocks.2.conv.0.style_block.0.bias', 'blocks.2.conv1.0.weight', 'blocks.2.conv1.0.bias', 'blocks.2.conv1.0.style_block.0.weight', 'blocks.2.conv1.0.style_block.0.bias', 'blocks.2.proj.0.weight', 'blocks.2.proj.0.bias', 'blocks.2.proj.0.style_block.0.weight', 'blocks.2.proj.0.style_block.0.bias']\n"
     ]
    }
   ],
   "source": [
    "print(len(old_keys_conv))\n",
    "print(old_keys_conv)"
   ]
  },
  {
   "cell_type": "code",
   "execution_count": 19,
   "metadata": {},
   "outputs": [
    {
     "name": "stdout",
     "output_type": "stream",
     "text": [
      "40\n"
     ]
    }
   ],
   "source": [
    "new_keys_conv = []\n",
    "for x in new_keys:\n",
    "    if 'std' not in x and 'noise_proj' not in x:\n",
    "        new_keys_conv.append(x)\n",
    "print(len(new_keys_conv))"
   ]
  },
  {
   "cell_type": "code",
   "execution_count": 20,
   "metadata": {},
   "outputs": [],
   "source": [
    "for x, y in zip(new_keys_conv, old_keys_conv):\n",
    "    new_G_state[x] = old_G_state[y]\n",
    "new_G['model'] = new_G_state\n",
    "new_G['pretrained_layers'] = new_keys_conv"
   ]
  },
  {
   "cell_type": "code",
   "execution_count": 21,
   "metadata": {},
   "outputs": [],
   "source": [
    "torch.save(new_G, '/hildafs/home/xzhangn/xzhangn/emulator_sr/5-training/test_run-2-0/GAN_state/G.pt')"
   ]
  },
  {
   "cell_type": "code",
   "execution_count": 23,
   "metadata": {},
   "outputs": [],
   "source": [
    "def print_parameters(state):\n",
    "    table = PrettyTable([\"Names\", \"Parameters\", 'Shape'])\n",
    "    total_params = 0\n",
    "    for name in state.keys():\n",
    "        parameter = state[name]\n",
    "        params = parameter.numel()\n",
    "        table.add_row([name, params, parameter.shape])\n",
    "        total_params+=params\n",
    "    print(table)\n",
    "    print(f\"Total Trainable Params: {total_params}\")\n",
    "    return total_params\n"
   ]
  },
  {
   "cell_type": "code",
   "execution_count": 24,
   "metadata": {},
   "outputs": [
    {
     "name": "stdout",
     "output_type": "stream",
     "text": [
      "+------------------------------------------+------------+---------------------------------+\n",
      "|                  Names                   | Parameters |              Shape              |\n",
      "+------------------------------------------+------------+---------------------------------+\n",
      "|            convblock0.weight             |    3072    |  torch.Size([512, 6, 1, 1, 1])  |\n",
      "|             convblock0.bias              |    512     |        torch.Size([512])        |\n",
      "|     convblock0.style_block.0.weight      |     6      |        torch.Size([6, 1])       |\n",
      "|      convblock0.style_block.0.bias       |     6      |         torch.Size([6])         |\n",
      "|               addnoise.std               |    512     |        torch.Size([512])        |\n",
      "|           hblock0.conv1.weight           |  3538944   | torch.Size([256, 512, 3, 3, 3]) |\n",
      "|            hblock0.conv1.bias            |    256     |        torch.Size([256])        |\n",
      "|    hblock0.conv1.style_block.0.weight    |    512     |       torch.Size([512, 1])      |\n",
      "|     hblock0.conv1.style_block.0.bias     |    512     |        torch.Size([512])        |\n",
      "|          hblock0.addnoise1.std           |    256     |        torch.Size([256])        |\n",
      "|           hblock0.conv2.weight           |  1769472   | torch.Size([256, 256, 3, 3, 3]) |\n",
      "|            hblock0.conv2.bias            |    256     |        torch.Size([256])        |\n",
      "|    hblock0.conv2.style_block.0.weight    |    256     |       torch.Size([256, 1])      |\n",
      "|     hblock0.conv2.style_block.0.bias     |    256     |        torch.Size([256])        |\n",
      "|          hblock0.addnoise2.std           |    256     |        torch.Size([256])        |\n",
      "|           hblock0.proj.weight            |    1536    |  torch.Size([6, 256, 1, 1, 1])  |\n",
      "|            hblock0.proj.bias             |     6      |         torch.Size([6])         |\n",
      "|    hblock0.proj.style_block.0.weight     |    256     |       torch.Size([256, 1])      |\n",
      "|     hblock0.proj.style_block.0.bias      |    256     |        torch.Size([256])        |\n",
      "|        hblock0.noise_proj1.weight        |    1536    |  torch.Size([256, 6, 1, 1, 1])  |\n",
      "|         hblock0.noise_proj1.bias         |    256     |        torch.Size([256])        |\n",
      "| hblock0.noise_proj1.style_block.0.weight |     6      |        torch.Size([6, 1])       |\n",
      "|  hblock0.noise_proj1.style_block.0.bias  |     6      |         torch.Size([6])         |\n",
      "|        hblock0.noise_proj2.weight        |    1536    |  torch.Size([256, 6, 1, 1, 1])  |\n",
      "|         hblock0.noise_proj2.bias         |    256     |        torch.Size([256])        |\n",
      "| hblock0.noise_proj2.style_block.0.weight |     6      |        torch.Size([6, 1])       |\n",
      "|  hblock0.noise_proj2.style_block.0.bias  |     6      |         torch.Size([6])         |\n",
      "|           hblock1.conv1.weight           |   884736   | torch.Size([128, 256, 3, 3, 3]) |\n",
      "|            hblock1.conv1.bias            |    128     |        torch.Size([128])        |\n",
      "|    hblock1.conv1.style_block.0.weight    |    256     |       torch.Size([256, 1])      |\n",
      "|     hblock1.conv1.style_block.0.bias     |    256     |        torch.Size([256])        |\n",
      "|          hblock1.addnoise1.std           |    128     |        torch.Size([128])        |\n",
      "|           hblock1.conv2.weight           |   442368   | torch.Size([128, 128, 3, 3, 3]) |\n",
      "|            hblock1.conv2.bias            |    128     |        torch.Size([128])        |\n",
      "|    hblock1.conv2.style_block.0.weight    |    128     |       torch.Size([128, 1])      |\n",
      "|     hblock1.conv2.style_block.0.bias     |    128     |        torch.Size([128])        |\n",
      "|          hblock1.addnoise2.std           |    128     |        torch.Size([128])        |\n",
      "|           hblock1.proj.weight            |    768     |  torch.Size([6, 128, 1, 1, 1])  |\n",
      "|            hblock1.proj.bias             |     6      |         torch.Size([6])         |\n",
      "|    hblock1.proj.style_block.0.weight     |    128     |       torch.Size([128, 1])      |\n",
      "|     hblock1.proj.style_block.0.bias      |    128     |        torch.Size([128])        |\n",
      "|        hblock1.noise_proj1.weight        |    768     |  torch.Size([128, 6, 1, 1, 1])  |\n",
      "|         hblock1.noise_proj1.bias         |    128     |        torch.Size([128])        |\n",
      "| hblock1.noise_proj1.style_block.0.weight |     6      |        torch.Size([6, 1])       |\n",
      "|  hblock1.noise_proj1.style_block.0.bias  |     6      |         torch.Size([6])         |\n",
      "|        hblock1.noise_proj2.weight        |    768     |  torch.Size([128, 6, 1, 1, 1])  |\n",
      "|         hblock1.noise_proj2.bias         |    128     |        torch.Size([128])        |\n",
      "| hblock1.noise_proj2.style_block.0.weight |     6      |        torch.Size([6, 1])       |\n",
      "|  hblock1.noise_proj2.style_block.0.bias  |     6      |         torch.Size([6])         |\n",
      "|           hblock2.conv1.weight           |   221184   |  torch.Size([64, 128, 3, 3, 3]) |\n",
      "|            hblock2.conv1.bias            |     64     |         torch.Size([64])        |\n",
      "|    hblock2.conv1.style_block.0.weight    |    128     |       torch.Size([128, 1])      |\n",
      "|     hblock2.conv1.style_block.0.bias     |    128     |        torch.Size([128])        |\n",
      "|          hblock2.addnoise1.std           |     64     |         torch.Size([64])        |\n",
      "|           hblock2.conv2.weight           |   110592   |  torch.Size([64, 64, 3, 3, 3])  |\n",
      "|            hblock2.conv2.bias            |     64     |         torch.Size([64])        |\n",
      "|    hblock2.conv2.style_block.0.weight    |     64     |       torch.Size([64, 1])       |\n",
      "|     hblock2.conv2.style_block.0.bias     |     64     |         torch.Size([64])        |\n",
      "|          hblock2.addnoise2.std           |     64     |         torch.Size([64])        |\n",
      "|           hblock2.proj.weight            |    384     |   torch.Size([6, 64, 1, 1, 1])  |\n",
      "|            hblock2.proj.bias             |     6      |         torch.Size([6])         |\n",
      "|    hblock2.proj.style_block.0.weight     |     64     |       torch.Size([64, 1])       |\n",
      "|     hblock2.proj.style_block.0.bias      |     64     |         torch.Size([64])        |\n",
      "|        hblock2.noise_proj1.weight        |    384     |   torch.Size([64, 6, 1, 1, 1])  |\n",
      "|         hblock2.noise_proj1.bias         |     64     |         torch.Size([64])        |\n",
      "| hblock2.noise_proj1.style_block.0.weight |     6      |        torch.Size([6, 1])       |\n",
      "|  hblock2.noise_proj1.style_block.0.bias  |     6      |         torch.Size([6])         |\n",
      "|        hblock2.noise_proj2.weight        |    384     |   torch.Size([64, 6, 1, 1, 1])  |\n",
      "|         hblock2.noise_proj2.bias         |     64     |         torch.Size([64])        |\n",
      "| hblock2.noise_proj2.style_block.0.weight |     6      |        torch.Size([6, 1])       |\n",
      "|  hblock2.noise_proj2.style_block.0.bias  |     6      |         torch.Size([6])         |\n",
      "|            noise_proj.weight             |    3072    |  torch.Size([512, 6, 1, 1, 1])  |\n",
      "|             noise_proj.bias              |    512     |        torch.Size([512])        |\n",
      "|     noise_proj.style_block.0.weight      |     6      |        torch.Size([6, 1])       |\n",
      "|      noise_proj.style_block.0.bias       |     6      |         torch.Size([6])         |\n",
      "+------------------------------------------+------------+---------------------------------+\n",
      "Total Trainable Params: 6989426\n"
     ]
    },
    {
     "data": {
      "text/plain": [
       "6989426"
      ]
     },
     "execution_count": 24,
     "metadata": {},
     "output_type": "execute_result"
    }
   ],
   "source": [
    "print_parameters(new_G['model'])"
   ]
  },
  {
   "cell_type": "code",
   "execution_count": 25,
   "metadata": {},
   "outputs": [
    {
     "name": "stdout",
     "output_type": "stream",
     "text": [
      "+---------------------------------------+------------+---------------------------------+\n",
      "|                 Names                 | Parameters |              Shape              |\n",
      "+---------------------------------------+------------+---------------------------------+\n",
      "|            block0.0.weight            |    3072    |  torch.Size([512, 6, 1, 1, 1])  |\n",
      "|             block0.0.bias             |    512     |        torch.Size([512])        |\n",
      "|     block0.0.style_block.0.weight     |     6      |        torch.Size([6, 1])       |\n",
      "|      block0.0.style_block.0.bias      |     6      |         torch.Size([6])         |\n",
      "|     blocks.0.noise_upsample.0.std     |    512     |        torch.Size([512])        |\n",
      "|         blocks.0.conv.0.weight        |  3538944   | torch.Size([256, 512, 3, 3, 3]) |\n",
      "|          blocks.0.conv.0.bias         |    256     |        torch.Size([256])        |\n",
      "|  blocks.0.conv.0.style_block.0.weight |    512     |       torch.Size([512, 1])      |\n",
      "|   blocks.0.conv.0.style_block.0.bias  |    512     |        torch.Size([512])        |\n",
      "|         blocks.0.addnoise.std         |    256     |        torch.Size([256])        |\n",
      "|        blocks.0.conv1.0.weight        |  1769472   | torch.Size([256, 256, 3, 3, 3]) |\n",
      "|         blocks.0.conv1.0.bias         |    256     |        torch.Size([256])        |\n",
      "| blocks.0.conv1.0.style_block.0.weight |    256     |       torch.Size([256, 1])      |\n",
      "|  blocks.0.conv1.0.style_block.0.bias  |    256     |        torch.Size([256])        |\n",
      "|         blocks.0.proj.0.weight        |    1536    |  torch.Size([6, 256, 1, 1, 1])  |\n",
      "|          blocks.0.proj.0.bias         |     6      |         torch.Size([6])         |\n",
      "|  blocks.0.proj.0.style_block.0.weight |    256     |       torch.Size([256, 1])      |\n",
      "|   blocks.0.proj.0.style_block.0.bias  |    256     |        torch.Size([256])        |\n",
      "|     blocks.1.noise_upsample.0.std     |    256     |        torch.Size([256])        |\n",
      "|         blocks.1.conv.0.weight        |   884736   | torch.Size([128, 256, 3, 3, 3]) |\n",
      "|          blocks.1.conv.0.bias         |    128     |        torch.Size([128])        |\n",
      "|  blocks.1.conv.0.style_block.0.weight |    256     |       torch.Size([256, 1])      |\n",
      "|   blocks.1.conv.0.style_block.0.bias  |    256     |        torch.Size([256])        |\n",
      "|         blocks.1.addnoise.std         |    128     |        torch.Size([128])        |\n",
      "|        blocks.1.conv1.0.weight        |   442368   | torch.Size([128, 128, 3, 3, 3]) |\n",
      "|         blocks.1.conv1.0.bias         |    128     |        torch.Size([128])        |\n",
      "| blocks.1.conv1.0.style_block.0.weight |    128     |       torch.Size([128, 1])      |\n",
      "|  blocks.1.conv1.0.style_block.0.bias  |    128     |        torch.Size([128])        |\n",
      "|         blocks.1.proj.0.weight        |    768     |  torch.Size([6, 128, 1, 1, 1])  |\n",
      "|          blocks.1.proj.0.bias         |     6      |         torch.Size([6])         |\n",
      "|  blocks.1.proj.0.style_block.0.weight |    128     |       torch.Size([128, 1])      |\n",
      "|   blocks.1.proj.0.style_block.0.bias  |    128     |        torch.Size([128])        |\n",
      "|     blocks.2.noise_upsample.0.std     |    128     |        torch.Size([128])        |\n",
      "|         blocks.2.conv.0.weight        |   221184   |  torch.Size([64, 128, 3, 3, 3]) |\n",
      "|          blocks.2.conv.0.bias         |     64     |         torch.Size([64])        |\n",
      "|  blocks.2.conv.0.style_block.0.weight |    128     |       torch.Size([128, 1])      |\n",
      "|   blocks.2.conv.0.style_block.0.bias  |    128     |        torch.Size([128])        |\n",
      "|         blocks.2.addnoise.std         |     64     |         torch.Size([64])        |\n",
      "|        blocks.2.conv1.0.weight        |   110592   |  torch.Size([64, 64, 3, 3, 3])  |\n",
      "|         blocks.2.conv1.0.bias         |     64     |         torch.Size([64])        |\n",
      "| blocks.2.conv1.0.style_block.0.weight |     64     |       torch.Size([64, 1])       |\n",
      "|  blocks.2.conv1.0.style_block.0.bias  |     64     |         torch.Size([64])        |\n",
      "|         blocks.2.proj.0.weight        |    384     |   torch.Size([6, 64, 1, 1, 1])  |\n",
      "|          blocks.2.proj.0.bias         |     6      |         torch.Size([6])         |\n",
      "|  blocks.2.proj.0.style_block.0.weight |     64     |       torch.Size([64, 1])       |\n",
      "|   blocks.2.proj.0.style_block.0.bias  |     64     |         torch.Size([64])        |\n",
      "+---------------------------------------+------------+---------------------------------+\n",
      "Total Trainable Params: 6979422\n"
     ]
    },
    {
     "data": {
      "text/plain": [
       "6979422"
      ]
     },
     "execution_count": 25,
     "metadata": {},
     "output_type": "execute_result"
    }
   ],
   "source": [
    "print_parameters(old_G['model'])"
   ]
  },
  {
   "cell_type": "code",
   "execution_count": 7,
   "metadata": {},
   "outputs": [],
   "source": [
    "input_size = 24\n",
    "padding = 3\n",
    "N = input_size + 2 * padding\n",
    "noise_padding = 4\n",
    "noise0_N = input_size*2 + 2 * noise_padding\n",
    "noise1_N = input_size*4 + 2 * noise_padding\n",
    "noise2_N = input_size*8 + 2 * noise_padding"
   ]
  },
  {
   "cell_type": "code",
   "execution_count": 8,
   "metadata": {},
   "outputs": [],
   "source": [
    "input = torch.randn(1, 6, N, N, N).cuda()\n",
    "style = torch.randn(1, 1).cuda()\n",
    "early_noise = torch.randn(1, 6, N, N, N).cuda()\n",
    "noise0 = torch.randn(1, 6, noise0_N, noise0_N, noise0_N).cuda()\n",
    "noise1 = torch.randn(1, 6, noise1_N, noise1_N, noise1_N).cuda()\n",
    "noise2 = torch.randn(1, 6, noise2_N, noise2_N, noise2_N).cuda()"
   ]
  },
  {
   "cell_type": "code",
   "execution_count": 9,
   "metadata": {},
   "outputs": [],
   "source": [
    "out = G(input, style, early_noise, noise0, noise1, noise2)"
   ]
  },
  {
   "cell_type": "code",
   "execution_count": 10,
   "metadata": {},
   "outputs": [
    {
     "name": "stdout",
     "output_type": "stream",
     "text": [
      "|===========================================================================|\n",
      "|                  PyTorch CUDA memory summary, device ID 0                 |\n",
      "|---------------------------------------------------------------------------|\n",
      "|            CUDA OOMs: 0            |        cudaMalloc retries: 0         |\n",
      "|===========================================================================|\n",
      "|        Metric         | Cur Usage  | Peak Usage | Tot Alloc  | Tot Freed  |\n",
      "|---------------------------------------------------------------------------|\n",
      "| Allocated memory      |   22309 MB |   23874 MB |   43255 MB |   20945 MB |\n",
      "|       from large pool |   22304 MB |   23869 MB |   43246 MB |   20942 MB |\n",
      "|       from small pool |       5 MB |       5 MB |       8 MB |       3 MB |\n",
      "|---------------------------------------------------------------------------|\n",
      "| Active memory         |   22309 MB |   23874 MB |   43255 MB |   20945 MB |\n",
      "|       from large pool |   22304 MB |   23869 MB |   43246 MB |   20942 MB |\n",
      "|       from small pool |       5 MB |       5 MB |       8 MB |       3 MB |\n",
      "|---------------------------------------------------------------------------|\n",
      "| GPU reserved memory   |   25956 MB |   25956 MB |   25956 MB |       0 B  |\n",
      "|       from large pool |   25950 MB |   25950 MB |   25950 MB |       0 B  |\n",
      "|       from small pool |       6 MB |       6 MB |       6 MB |       0 B  |\n",
      "|---------------------------------------------------------------------------|\n",
      "| Non-releasable memory |  373239 KB |    4486 MB |   12593 MB |   12228 MB |\n",
      "|       from large pool |  372483 KB |    4485 MB |   12585 MB |   12221 MB |\n",
      "|       from small pool |     755 KB |       1 MB |       7 MB |       7 MB |\n",
      "|---------------------------------------------------------------------------|\n",
      "| Allocations           |     176    |     178    |     262    |      86    |\n",
      "|       from large pool |      42    |      44    |      79    |      37    |\n",
      "|       from small pool |     134    |     134    |     183    |      49    |\n",
      "|---------------------------------------------------------------------------|\n",
      "| Active allocs         |     176    |     178    |     262    |      86    |\n",
      "|       from large pool |      42    |      44    |      79    |      37    |\n",
      "|       from small pool |     134    |     134    |     183    |      49    |\n",
      "|---------------------------------------------------------------------------|\n",
      "| GPU reserved segments |      31    |      31    |      31    |       0    |\n",
      "|       from large pool |      28    |      28    |      28    |       0    |\n",
      "|       from small pool |       3    |       3    |       3    |       0    |\n",
      "|---------------------------------------------------------------------------|\n",
      "| Non-releasable allocs |      13    |      16    |      58    |      45    |\n",
      "|       from large pool |      10    |      13    |      29    |      19    |\n",
      "|       from small pool |       3    |       3    |      29    |      26    |\n",
      "|---------------------------------------------------------------------------|\n",
      "| Oversize allocations  |       0    |       0    |       0    |       0    |\n",
      "|---------------------------------------------------------------------------|\n",
      "| Oversize GPU segments |       0    |       0    |       0    |       0    |\n",
      "|===========================================================================|\n",
      "\n"
     ]
    }
   ],
   "source": [
    "print(torch.cuda.memory_summary())"
   ]
  },
  {
   "cell_type": "code",
   "execution_count": 11,
   "metadata": {},
   "outputs": [
    {
     "name": "stdout",
     "output_type": "stream",
     "text": [
      "25033991680\n"
     ]
    }
   ],
   "source": [
    "print(torch.cuda.max_memory_allocated())"
   ]
  },
  {
   "cell_type": "code",
   "execution_count": 12,
   "metadata": {},
   "outputs": [
    {
     "name": "stdout",
     "output_type": "stream",
     "text": [
      "Thu Jun  8 14:56:24 2023       \n",
      "+-----------------------------------------------------------------------------+\n",
      "| NVIDIA-SMI 470.57.02    Driver Version: 470.57.02    CUDA Version: 11.4     |\n",
      "|-------------------------------+----------------------+----------------------+\n",
      "| GPU  Name        Persistence-M| Bus-Id        Disp.A | Volatile Uncorr. ECC |\n",
      "| Fan  Temp  Perf  Pwr:Usage/Cap|         Memory-Usage | GPU-Util  Compute M. |\n",
      "|                               |                      |               MIG M. |\n",
      "|===============================+======================+======================|\n",
      "|   0  NVIDIA A100-SXM...  On   | 00000000:01:00.0 Off |                    0 |\n",
      "| N/A   30C    P0    67W / 400W |  27870MiB / 40536MiB |     52%      Default |\n",
      "|                               |                      |             Disabled |\n",
      "+-------------------------------+----------------------+----------------------+\n",
      "                                                                               \n",
      "+-----------------------------------------------------------------------------+\n",
      "| Processes:                                                                  |\n",
      "|  GPU   GI   CI        PID   Type   Process name                  GPU Memory |\n",
      "|        ID   ID                                                   Usage      |\n",
      "|=============================================================================|\n",
      "|    0   N/A  N/A   1468901      C   ...da3/envs/torch/bin/python    27867MiB |\n",
      "+-----------------------------------------------------------------------------+\n"
     ]
    }
   ],
   "source": [
    "!nvidia-smi"
   ]
  },
  {
   "cell_type": "code",
   "execution_count": 13,
   "metadata": {},
   "outputs": [],
   "source": [
    "loss = out.sum()\n",
    "loss.backward()"
   ]
  },
  {
   "cell_type": "code",
   "execution_count": 14,
   "metadata": {},
   "outputs": [
    {
     "name": "stdout",
     "output_type": "stream",
     "text": [
      "27884080128\n"
     ]
    }
   ],
   "source": [
    "print(torch.cuda.max_memory_allocated())"
   ]
  },
  {
   "cell_type": "code",
   "execution_count": null,
   "metadata": {},
   "outputs": [],
   "source": []
  }
 ],
 "metadata": {
  "kernelspec": {
   "display_name": "Python 3 (ipykernel)",
   "language": "python",
   "name": "python3"
  },
  "language_info": {
   "codemirror_mode": {
    "name": "ipython",
    "version": 3
   },
   "file_extension": ".py",
   "mimetype": "text/x-python",
   "name": "python",
   "nbconvert_exporter": "python",
   "pygments_lexer": "ipython3",
   "version": "3.7.13"
  },
  "orig_nbformat": 4
 },
 "nbformat": 4,
 "nbformat_minor": 2
}
